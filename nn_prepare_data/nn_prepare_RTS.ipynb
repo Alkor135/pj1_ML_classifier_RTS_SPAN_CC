{
 "cells": [
  {
   "cell_type": "markdown",
   "metadata": {},
   "source": [
    "# Подготовка данных для нейронной сети"
   ]
  },
  {
   "cell_type": "markdown",
   "metadata": {},
   "source": [
    "Используется соотношение открытого интереса по Call и Put опционам."
   ]
  },
  {
   "cell_type": "code",
   "execution_count": 79,
   "metadata": {},
   "outputs": [],
   "source": [
    "from pathlib import Path\n",
    "import pandas as pd\n",
    "import sqlite3\n",
    "from sklearn.preprocessing import MinMaxScaler\n",
    "import numpy as np\n",
    "import csv"
   ]
  },
  {
   "cell_type": "code",
   "execution_count": 80,
   "metadata": {},
   "outputs": [
    {
     "name": "stdout",
     "output_type": "stream",
     "text": [
      "      TRADEDATE      OPEN       LOW      HIGH     CLOSE  ...  SHORTNAME   LSTTRADE up_down  next_ud  next_name\n",
      "0    2015-01-05   76930.0   72470.0   78980.0   74600.0  ...   RTS-3.15 2015-03-16       0        0   RTS-3.15\n",
      "1    2015-01-06   74470.0   71200.0   74610.0   73480.0  ...   RTS-3.15 2015-03-16       0        1   RTS-3.15\n",
      "...         ...       ...       ...       ...       ...  ...        ...        ...     ...      ...        ...\n",
      "2328 2024-06-11  112490.0  110680.0  112630.0  111640.0  ...   RTS-6.24 2024-06-20       0        1   RTS-6.24\n",
      "2329 2024-06-13  111560.0  106020.0  112790.0  111700.0  ...   RTS-6.24 2024-06-20       1        1   RTS-6.24\n",
      "(2330, 11)\n",
      "\n",
      "         TRADEDATE  OPENPOSITION      NAME   LSTTRADE OPTIONTYPE  STRIKE\n",
      "0      2015-01-05         18004  RTS-3.15 2015-01-15          C  100000\n",
      "1      2015-01-05             0  RTS-3.15 2015-03-16          C   45000\n",
      "...           ...           ...       ...        ...        ...     ...\n",
      "749566 2024-06-14             0  RTS-6.24 2024-06-20          P  155000\n",
      "749567 2024-06-14           472  RTS-6.24 2024-06-20          P   97500\n",
      "(749568, 6)\n"
     ]
    }
   ],
   "source": [
    "tiker: str = 'RTS'\n",
    "db_path: Path = Path(fr'c:\\Users\\Alkor\\gd\\data_quote_db\\{tiker}_futures_options_day_pj1.db')\n",
    "\n",
    "# Подключение к базе данных\n",
    "conn = sqlite3.connect(db_path)\n",
    "\n",
    "# Чтение данных из таблицы в DataFrame\n",
    "df_f = pd.read_sql_query(\"SELECT `TRADEDATE`, `OPEN`, `LOW`, `HIGH`, `CLOSE`, `OPENPOSITION`, `SHORTNAME`, `LSTTRADE` FROM Futures\", conn)\n",
    "df_o = pd.read_sql_query(\"SELECT `TRADEDATE`, `OPENPOSITION`, `NAME`, `LSTTRADE`, `OPTIONTYPE`, `STRIKE` FROM Options\", conn)\n",
    "\n",
    "# Закрытие соединения\n",
    "conn.close()\n",
    "\n",
    "df_f[['TRADEDATE', 'LSTTRADE']] = df_f[['TRADEDATE', 'LSTTRADE']].apply(pd.to_datetime)\n",
    "df_o[['TRADEDATE', 'LSTTRADE']] = df_o[['TRADEDATE', 'LSTTRADE']].apply(pd.to_datetime)\n",
    "\n",
    "df_o = df_o[df_o.TRADEDATE < df_o.LSTTRADE]\n",
    "df_f['up_down'] = df_f[['OPEN', 'CLOSE']].apply(lambda x: 1 if (x.CLOSE > x.OPEN) else 0, axis=1)  # Добавление колонки направления свечи\n",
    "df_f['next_ud'] = df_f.up_down.shift(-1)  # Добавление колонки с направление следующей свечи\n",
    "df_f['next_name'] = df_f.SHORTNAME.shift(-1)  # Добавление колонки с именем следующей свечи\n",
    "\n",
    "# Фильтрация строк, где значения в столбцах SHORTNAME и next_name равны (исключение переходов контракта)\n",
    "df_f = df_f[df_f['SHORTNAME'] == df_f['next_name']]\n",
    "\n",
    "# print(df_f.to_string(max_rows=4, max_cols=10))\n",
    "df_f = df_f.dropna()\n",
    "df_f[['next_ud']] = df_f[['next_ud']].astype(int)\n",
    "\n",
    "# Сортировка по полю даты и сброс индекса\n",
    "df_f = df_f.sort_values(by='TRADEDATE').reset_index(drop=True)\n",
    "df_o = df_o.sort_values(by='TRADEDATE').reset_index(drop=True)\n",
    "\n",
    "# Вывод DataFrame\n",
    "# print(df_f)\n",
    "# print(df_o)\n",
    "print(df_f.to_string(max_rows=4, max_cols=10))\n",
    "print(df_f.shape)\n",
    "print('\\n', df_o.to_string(max_rows=4, max_cols=10))\n",
    "print(df_o.shape)"
   ]
  },
  {
   "cell_type": "code",
   "execution_count": 81,
   "metadata": {},
   "outputs": [
    {
     "name": "stdout",
     "output_type": "stream",
     "text": [
      "          0       1       2       3       4       5       6       7      8      9      10     11     12     13     14     15      16      17      18      19      20  21\n",
      "0     142848  134054  133546  123646  123022  109730  102368   90738  83022  58726 -32210 -19654  -4732   9432  27792  35356   66110   76092   92154   94122  121158   0\n",
      "1     140820  140754  132154  131646  121752  121132  108072  100666  89428  81100  57282 -29934 -17318  -2042  12132  31476   38872   70066   80016   96062   98026   1\n",
      "2     138356  128272  127628  114992  107648   96744   87814   62890  33726  17276   -474  15544  36676  43854  75622  85504  105042  107784  135136  139696  157322   0\n",
      "3     142156  141598  131832  131190  118292  110938  100024   90992  64332  35018  17030   3008  20020  43452  50670  83640   94202  114038  116806  145116  149680   0\n",
      "...      ...     ...     ...     ...     ...     ...     ...     ...    ...    ...    ...    ...    ...    ...    ...    ...     ...     ...     ...     ...     ...  ..\n",
      "2326   47772   45010   44858   41292   40714   35592   32620   27702  20430   6422   9800  27390  38832  48060  51766  52582   54814   55098   55132   55170   55236   0\n",
      "2327   50488   50252   47490   47318   43712   43104   37706   34892  29774  22300  -8080  11234  29116  40818  50094  53866   54682   57596   57880   57914   57952   0\n",
      "2328   52374   52138   49356   49164   45542   44934   39138   36062  30764  22292  -3932  15276  33322  44912  54068  57828   58646   61560   61844   61878   61916   1\n",
      "2329   35044   34808   32070   31918   28884   28572   23520   21854  18306  13036  -4612   3870  18706  27552  35436  38446   39230   42124   42408   42442   42480   1\n"
     ]
    }
   ],
   "source": [
    "step_strike = 2500\n",
    "\n",
    "df_rez = pd.DataFrame()\n",
    "\n",
    "for row in df_f.itertuples():  # Перебираем даты для запроса торгуемых опционов на эту дату\n",
    "    df = df_o[df_o.TRADEDATE == row.TRADEDATE]\n",
    "    # print(df.to_string(max_rows=4, max_cols=10))\n",
    "    df_p = (\n",
    "        df.query('OPTIONTYPE ==  \"P\"')\n",
    "        .groupby(['STRIKE'], as_index=False)\n",
    "        .agg({'OPENPOSITION': 'sum'})\n",
    "        .sort_values(['STRIKE'], ascending=True)\n",
    "        .rename(columns={'OPENPOSITION': 'oi_p'})\n",
    "    )\n",
    "    # print(df_p.to_string(max_rows=4, max_cols=10))\n",
    "    # print(df_p.shape)\n",
    "    \n",
    "    df_c = (\n",
    "        df.query('OPTIONTYPE ==  \"C\"')\n",
    "        .groupby(['STRIKE'], as_index=False)\n",
    "        .agg({'OPENPOSITION': 'sum'})\n",
    "        .sort_values(['STRIKE'], ascending=True)\n",
    "        .rename(columns={'OPENPOSITION': 'oi_c'})\n",
    "    )\n",
    "    # print(df_c.to_string(max_rows=4, max_cols=10))\n",
    "    # print(df_c.shape)\n",
    "    \n",
    "    # Временный DF для слияния, чтобы исключить пропуски страйков\n",
    "    df_tmp = pd.DataFrame(columns=['STRIKE'])\n",
    "    for st in range(df.STRIKE.min(), df.STRIKE.max() + step_strike, step_strike):\n",
    "        # Новое значение для добавления\n",
    "        new_row = pd.DataFrame({'STRIKE': [st]})\n",
    "        # Добавление новой строки в DataFrame с помощью concat\n",
    "        df_tmp = pd.concat([df_tmp, new_row], ignore_index=True)\n",
    "    # print(df_tmp.to_string(max_rows=4, max_cols=10))\n",
    "    \n",
    "    # Выполнение полного внешнего соединения по столбцу STRIKE\n",
    "    merged_df = pd.merge(df_p, df_c, on='STRIKE', how='outer')\n",
    "    merged_df = pd.merge(merged_df, df_tmp, on='STRIKE', how='outer')\n",
    "    # Приведение типов с помощью infer_objects\n",
    "    merged_df = merged_df.infer_objects(copy=False)\n",
    "    \n",
    "    merged_df = merged_df.fillna(0)\n",
    "    merged_df[['STRIKE', 'oi_c', 'oi_p']] = merged_df[['STRIKE', 'oi_c', 'oi_p']].astype(int)\n",
    "    # print(merged_df.to_string(max_rows=4, max_cols=10))\n",
    "    # print(merged_df.shape)\n",
    "    \n",
    "    merged_df['oi_c'] = merged_df['oi_c'].cumsum()\n",
    "    merged_df['oi_p'] = merged_df.iloc[::-1]['oi_p'].cumsum()[::-1]\n",
    "    # print(merged_df.to_string(max_rows=4, max_cols=10))\n",
    "    \n",
    "    # Записываем в переменную значение цены CLOSE фьючерса\n",
    "    price_close = df_f.loc[df_f['TRADEDATE'] == row.TRADEDATE, 'CLOSE'].values[0]\n",
    "    # Расчитываем ближайший страйк\n",
    "    nearest_strike = round(price_close / step_strike) * step_strike\n",
    "    # print(price_close, nearest_strike)\n",
    "    \n",
    "    # Список индексов со значением nearest_strike из поля merged_df['STRIKE']\n",
    "    index = merged_df.index[merged_df['STRIKE'] == nearest_strike].tolist()\n",
    "    # Известный индекс строки (берем 0)\n",
    "    index = index[0]\n",
    "    # Определение диапазона строк\n",
    "    start_index = max(0, index - 10)\n",
    "    end_index = min(len(df), index + 10 + 1)\n",
    "    # Получение 10 строк до и 10 строк после строки с известным индексом\n",
    "    subset_df = merged_df.iloc[start_index:end_index]\n",
    "    subset_df = subset_df.copy()\n",
    "    # Создание колонки соотношений отрытых интересов Call и Put\n",
    "    subset_df['oi'] = subset_df.apply(lambda x: x.oi_p - x.oi_c if x.STRIKE < price_close else x.oi_c - x.oi_p, axis=1)\n",
    "    # print(subset_df.to_string(max_rows=40, max_cols=10))\n",
    "    # Извлекаем колонку 'oi' из subset_df\n",
    "    column_as_row = subset_df['oi'].values\n",
    "    # Добавляем target\n",
    "    column_as_row = np.append(column_as_row, row.next_ud)\n",
    "    # print(column_as_row)\n",
    "    # Добавляем колонку как строку в DataFrame df_rez\n",
    "    # Для этого нам нужно транспонировать DataFrame, добавить строку и снова транспонировать обратно\n",
    "    df_rez = df_rez.T\n",
    "    df_rez[len(df_rez.columns)] = column_as_row\n",
    "    df_rez = df_rez.T\n",
    "    # print(df_rez)\n",
    "\n",
    "    # break\n",
    "print(df_rez.to_string(max_rows=8, max_cols=22))"
   ]
  },
  {
   "cell_type": "code",
   "execution_count": 82,
   "metadata": {},
   "outputs": [],
   "source": [
    "# Сохранение DF в файл без индекса\n",
    "df_rez.to_csv(fr'../nn_features_and_target.csv', index=False, sep=';')"
   ]
  }
 ],
 "metadata": {
  "kernelspec": {
   "display_name": "venv",
   "language": "python",
   "name": "python3"
  },
  "language_info": {
   "codemirror_mode": {
    "name": "ipython",
    "version": 3
   },
   "file_extension": ".py",
   "mimetype": "text/x-python",
   "name": "python",
   "nbconvert_exporter": "python",
   "pygments_lexer": "ipython3",
   "version": "3.12.4"
  }
 },
 "nbformat": 4,
 "nbformat_minor": 2
}
